{
 "cells": [
  {
   "cell_type": "code",
   "execution_count": 1,
   "metadata": {},
   "outputs": [
    {
     "name": "stderr",
     "output_type": "stream",
     "text": [
      "2023-11-19 21:37:44.887888: I tensorflow/core/platform/cpu_feature_guard.cc:182] This TensorFlow binary is optimized to use available CPU instructions in performance-critical operations.\n",
      "To enable the following instructions: SSE4.1 SSE4.2 AVX AVX2 AVX512F AVX512_VNNI FMA, in other operations, rebuild TensorFlow with the appropriate compiler flags.\n"
     ]
    }
   ],
   "source": [
    "import cv2 as cv\n",
    "import numpy as np\n",
    "import matplotlib.pyplot as plt\n",
    "from keras.datasets import mnist"
   ]
  },
  {
   "cell_type": "markdown",
   "metadata": {},
   "source": [
    "Загрузка \"обучающего\" датасета MNIST. Получение векторов признаков"
   ]
  },
  {
   "cell_type": "code",
   "execution_count": 2,
   "metadata": {},
   "outputs": [],
   "source": [
    "(train_X, train_Y), (test_X, test_Y) = mnist.load_data()"
   ]
  },
  {
   "cell_type": "code",
   "execution_count": 3,
   "metadata": {},
   "outputs": [
    {
     "data": {
      "text/plain": [
       "(60000, 28, 28)"
      ]
     },
     "execution_count": 3,
     "metadata": {},
     "output_type": "execute_result"
    }
   ],
   "source": [
    "train_X.shape"
   ]
  },
  {
   "cell_type": "code",
   "execution_count": 4,
   "metadata": {},
   "outputs": [
    {
     "data": {
      "text/plain": [
       "(10000, 28, 28)"
      ]
     },
     "execution_count": 4,
     "metadata": {},
     "output_type": "execute_result"
    }
   ],
   "source": [
    "test_X.shape"
   ]
  },
  {
   "cell_type": "code",
   "execution_count": 5,
   "metadata": {},
   "outputs": [],
   "source": [
    "train_ftrs = [0.] * 60000\n",
    "test_ftrs=[0.] * 10000"
   ]
  },
  {
   "cell_type": "code",
   "execution_count": 6,
   "metadata": {},
   "outputs": [],
   "source": [
    "for i in range(60000):\n",
    "    train_X[i] = cv.threshold(train_X[i], 0, 255, cv.THRESH_BINARY+cv.THRESH_OTSU)[1]\n",
    "    train_X[i] //= 255\n",
    "    train_ftrs[i] = np.ndarray.flatten(train_X[i])\n",
    "    if i < 10000:\n",
    "        test_X[i] = cv.threshold(test_X[i], 0, 255, cv.THRESH_BINARY+cv.THRESH_OTSU)[1]\n",
    "        test_X[i] //= 255\n",
    "        test_ftrs[i] = np.ndarray.flatten(test_X[i])"
   ]
  },
  {
   "cell_type": "markdown",
   "metadata": {},
   "source": [
    "Разные метрики для подсчета расстояний между признаками"
   ]
  },
  {
   "cell_type": "code",
   "execution_count": 22,
   "metadata": {},
   "outputs": [],
   "source": [
    "def euclid(a, b):\n",
    "    if len(a) != len(b):\n",
    "        print('Inconsistent vectors')\n",
    "        return -1\n",
    "    x = a.astype(int)\n",
    "    y = b.astype(int)\n",
    "    dists = x - y\n",
    "    dists **= 2\n",
    "    dist = dists.sum()\n",
    "    return dist ** 0.5"
   ]
  },
  {
   "cell_type": "markdown",
   "metadata": {},
   "source": [
    "Методы для извлечения признаков"
   ]
  },
  {
   "cell_type": "code",
   "execution_count": 48,
   "metadata": {},
   "outputs": [],
   "source": [
    "def feature_extract(img):\n",
    "    pass"
   ]
  },
  {
   "cell_type": "markdown",
   "metadata": {},
   "source": [
    "Классификатор"
   ]
  },
  {
   "cell_type": "code",
   "execution_count": 8,
   "metadata": {},
   "outputs": [],
   "source": [
    "def knn(input_ftr, train_ftr, train_lbl, k=1, weighted=False):\n",
    "    distances = []\n",
    "    \n",
    "    # calculate distances to all training set examples and store them with labels\n",
    "    # [(lbl, dist)]\n",
    "    for i in range(len(train_ftr)):\n",
    "        distances.append((train_lbl[i], euclid(input_ftr, train_ftr[i])))\n",
    "\n",
    "    # sort by distance and choose k nearest\n",
    "    distances.sort(key=lambda x: x[1])\n",
    "    distances = distances[:k]\n",
    "\n",
    "    w = [1.] * k\n",
    "    # there should be weighting process for chosen k neighbours\n",
    "    if weighted:\n",
    "        pass\n",
    "\n",
    "    # judgment = {lbl: cumulative weight}\n",
    "    judgment = dict()\n",
    "    for i in range(len(distances)):\n",
    "        lbl = distances[i][0]\n",
    "        if lbl not in judgment:\n",
    "            judgment[lbl] = w[i] \n",
    "        else:\n",
    "            judgment[lbl] += w[i]\n",
    "\n",
    "    # sort labels by prevalence and choose the answer\n",
    "    judgment = list(judgment.items())\n",
    "    judgment.sort(key=lambda x: x[1], reverse=True)\n",
    "    return judgment[0][0]"
   ]
  },
  {
   "cell_type": "code",
   "execution_count": 27,
   "metadata": {},
   "outputs": [],
   "source": [
    "def hit_rate(pred, test):\n",
    "    tries = len(pred)\n",
    "    hits = 0\n",
    "    for i in range(tries):\n",
    "        if pred[i] == test[i]:\n",
    "            hits+=1\n",
    "    return hits/tries"
   ]
  },
  {
   "cell_type": "code",
   "execution_count": 31,
   "metadata": {},
   "outputs": [],
   "source": [
    "answers = [None]*100\n",
    "for i in range(100):\n",
    "    answers[i] = knn(test_ftrs[i], train_ftrs, train_Y)"
   ]
  },
  {
   "cell_type": "code",
   "execution_count": 32,
   "metadata": {},
   "outputs": [
    {
     "data": {
      "text/plain": [
       "0.97"
      ]
     },
     "execution_count": 32,
     "metadata": {},
     "output_type": "execute_result"
    }
   ],
   "source": [
    "hit_rate(answers, test_Y)"
   ]
  }
 ],
 "metadata": {
  "kernelspec": {
   "display_name": "base",
   "language": "python",
   "name": "python3"
  },
  "language_info": {
   "codemirror_mode": {
    "name": "ipython",
    "version": 3
   },
   "file_extension": ".py",
   "mimetype": "text/x-python",
   "name": "python",
   "nbconvert_exporter": "python",
   "pygments_lexer": "ipython3",
   "version": "3.11.5"
  }
 },
 "nbformat": 4,
 "nbformat_minor": 2
}
